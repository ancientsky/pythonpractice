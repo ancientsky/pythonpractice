{
 "cells": [
  {
   "cell_type": "code",
   "execution_count": 2,
   "metadata": {},
   "outputs": [],
   "source": [
    "import requests\n",
    "from bs4 import BeautifulSoup as bs\n",
    "import numpy as np\n",
    "import pandas as pd"
   ]
  },
  {
   "cell_type": "code",
   "execution_count": 18,
   "metadata": {
    "scrolled": false
   },
   "outputs": [],
   "source": [
    "def hosp(hospname):\n",
    "    with requests.session() as s:\n",
    "        s.headers.update({\n",
    "            'user-agent': 'Mozilla/5.0'})\n",
    "        url = 'https://www.nhi.gov.tw/QueryN/query3.aspx'\n",
    "        r= s.get(url)\n",
    "        with open('page-1.html', 'bw') as log:\n",
    "            log.write(r.content)\n",
    "\n",
    "        soup = bs(r.content, 'html.parser')\n",
    "\n",
    "        viewstate  = soup.find('input', {'id': '__VIEWSTATE'         })['value']\n",
    "        generator  = soup.find('input', {'id': '__VIEWSTATEGENERATOR'})['value']\n",
    "        validation = soup.find('input', {'id': '__EVENTVALIDATION'   })['value']\n",
    "\n",
    "\n",
    "        payload = {\n",
    "            '__EVENTTARGET':        '',\n",
    "            '__EVENTARGUMENT':      '',\n",
    "            '__VIEWSTATE':          viewstate,\n",
    "            '__VIEWSTATEGENERATOR': generator,\n",
    "            '__SCROLLPOSITIONX': '0',\n",
    "            '__SCROLLPOSITIONY': '0',\n",
    "            '__VIEWSTATEENCRYPTED': '',\n",
    "            '__EVENTVALIDATION':    validation,\n",
    "            'ctl00$ContentPlaceHolder1$tbxHospName' : hospname,\n",
    "            'ctl00$ContentPlaceHolder1$ddlCountyAreaCode': '11',\n",
    "            'ctl00$ContentPlaceHolder1$ddlTownAreaCode': '',\n",
    "            'ctl00$ContentPlaceHolder1$btnSubmit': '開始查詢'}\n",
    "\n",
    "        result=s.post(url, data= payload, verify=False)\n",
    "\n",
    "        soup2 = bs(result.content, 'html.parser')\n",
    "        try:\n",
    "            hospitalid  = soup2.find(id='ctl00_ContentPlaceHolder1_gvQuery3Data_ctl02_lblHospName').a.get('href').split('=')[2]\n",
    "            print(hospitalid)\n",
    "        except AttributeError:\n",
    "            print(\"查不到\")\n",
    "    "
   ]
  },
  {
   "cell_type": "code",
   "execution_count": 8,
   "metadata": {},
   "outputs": [
    {
     "name": "stdout",
     "output_type": "stream",
     "text": [
      "查不到\n"
     ]
    }
   ],
   "source": [
    "hosp(\"eee\")"
   ]
  },
  {
   "cell_type": "code",
   "execution_count": null,
   "metadata": {},
   "outputs": [],
   "source": []
  },
  {
   "cell_type": "code",
   "execution_count": 17,
   "metadata": {},
   "outputs": [],
   "source": [
    "listhosp = [\"合成診所\",\"林承興診所\",\"聖母聯合診所\",\"安瀾診所\",\"晉安診所\",\"正光內兒科診所\",\"紀醫師診所\",\"佑仁聯合診所\",\"西華診所\",\"碇內診所\",\"婁診所\",\"康合診所\",\"鴻海診所\",\"百會診所\",\"王俊傑耳鼻喉科診所\",\"陳興達診所\",\"懷仁診所\",\"仁愛診所\",\"佳安診所\",\"林義宏診所\",\"至誠診所\",\"復興診所\",\"聖德診所\",\"安定診所\",\"李卓為診所\",\"李偉華耳鼻喉科診所\",\"百會長庚診所\",\"長庚醫療財團法人基隆長庚紀念醫院\",\"信義診所\",\"國泰家醫診所\",\"衛生福利部基隆醫院\"]"
   ]
  },
  {
   "cell_type": "code",
   "execution_count": 19,
   "metadata": {},
   "outputs": [
    {
     "name": "stdout",
     "output_type": "stream",
     "text": [
      "3511010588\n",
      "3511010524\n",
      "3511011807\n",
      "3511012224\n",
      "3511012242\n",
      "3511020057\n",
      "3511020226\n",
      "3511020235\n",
      "3511020333\n",
      "3511031247\n",
      "3511030053\n",
      "3511031256\n",
      "3511031265\n",
      "3511031283\n",
      "3511040942\n",
      "3511040728\n",
      "3511041047\n",
      "3511041181\n",
      "3511041190\n",
      "3511050260\n",
      "3511050108\n",
      "3511051427\n",
      "3511051481\n",
      "3511051507\n",
      "3511060159\n",
      "3511061325\n",
      "3511061414\n",
      "1111060015\n",
      "3511070128\n",
      "3511071410\n",
      "0111070010\n"
     ]
    }
   ],
   "source": [
    "for i in listhosp:\n",
    "    hosp(i)"
   ]
  },
  {
   "cell_type": "code",
   "execution_count": null,
   "metadata": {},
   "outputs": [],
   "source": []
  }
 ],
 "metadata": {
  "kernelspec": {
   "display_name": "Python 3",
   "language": "python",
   "name": "python3"
  },
  "language_info": {
   "codemirror_mode": {
    "name": "ipython",
    "version": 3
   },
   "file_extension": ".py",
   "mimetype": "text/x-python",
   "name": "python",
   "nbconvert_exporter": "python",
   "pygments_lexer": "ipython3",
   "version": "3.6.4"
  }
 },
 "nbformat": 4,
 "nbformat_minor": 2
}
