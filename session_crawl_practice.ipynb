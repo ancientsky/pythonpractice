{
 "cells": [
  {
   "cell_type": "code",
   "execution_count": 66,
   "metadata": {},
   "outputs": [
    {
     "name": "stdout",
     "output_type": "stream",
     "text": [
      "2\n",
      "3\n",
      "4\n",
      "5\n",
      "6\n",
      "7\n",
      "8\n",
      "9\n",
      "10\n"
     ]
    }
   ],
   "source": [
    "import requests\n",
    "from   bs4 import BeautifulSoup\n",
    "import pandas\n",
    "\n",
    "report_ary = []\n",
    "\n",
    "with requests.Session() as s:\n",
    "    s.headers.update({\n",
    "        'user-agent': 'Mozilla/5.0'})\n",
    "\n",
    "    r = s.get('http://www.jct.org.tw/tjcha_cert/ema.aspx')\n",
    "\n",
    "    with open('page-1.html', 'bw') as log:\n",
    "        log.write(r.content)\n",
    "\n",
    "    soup = BeautifulSoup(r.content, 'html.parser')\n",
    "\n",
    "    viewstate  = soup.find('input', {'id': '__VIEWSTATE'         })['value']\n",
    "    generator  = soup.find('input', {'id': '__VIEWSTATEGENERATOR'})['value']\n",
    "    validation = soup.find('input', {'id': '__EVENTVALIDATION'   })['value']\n",
    "    \n",
    "    dfs=pandas.read_html(soup.select('#GridView1')[0].prettify())\n",
    "    df=dfs[0]\n",
    "    df.columns = df.iloc[0,]\n",
    "    df = df.drop(0)\n",
    "    df =df[:-2]\n",
    "    df=df[(['序號', '醫療機構代碼', '機構名稱', '縣市別', '評定等級', '效期', '機構電話', '機構地址'])]\n",
    "    report_ary.append(df)\n",
    "\n",
    "    for page in range(2, 11):\n",
    "        print(page)\n",
    "        r = s.post(\n",
    "            'http://www.jct.org.tw/tjcha_cert/ema.aspx',\n",
    "            data={ \n",
    "                '__EVENTTARGET':        'GridView1',\n",
    "                '__EVENTARGUMENT':      'Page${}'.format(page),\n",
    "                '__VIEWSTATE':          viewstate,\n",
    "                '__VIEWSTATEGENERATOR': generator,\n",
    "                '__EVENTVALIDATION':    validation,\n",
    "                'DropDownList1':'%',\n",
    "                'DropDownList2':'%'\n",
    "            }\n",
    "        )\n",
    "\n",
    "        with open('page-{}.html'.format(page), 'bw') as log:\n",
    "            log.write(r.content)\n",
    "\n",
    "        soup = BeautifulSoup(r.content, 'html.parser')\n",
    "\n",
    "        viewstate  = soup.find('input', {'id': '__VIEWSTATE'      })['value']\n",
    "        generator  = soup.find('input', {'id': '__VIEWSTATEGENERATOR'})['value']\n",
    "        validation = soup.find('input', {'id': '__EVENTVALIDATION'})['value']\n",
    "        \n",
    "        dfs=pandas.read_html(soup.select('#GridView1')[0].prettify())\n",
    "        df=dfs[0]\n",
    "        df.columns = df.iloc[0,]\n",
    "        df = df.drop(0)\n",
    "        df =df[:-2]\n",
    "        df=df[(['序號', '醫療機構代碼', '機構名稱', '縣市別', '評定等級', '效期', '機構電話', '機構地址'])]\n",
    "        report_ary.append(df)\n",
    "reportdf = pandas.concat(report_ary)\n",
    "\n",
    "        "
   ]
  },
  {
   "cell_type": "code",
   "execution_count": 68,
   "metadata": {},
   "outputs": [],
   "source": [
    "reportdf.to_excel('erhosp.xlsx')"
   ]
  },
  {
   "cell_type": "code",
   "execution_count": null,
   "metadata": {
    "collapsed": true
   },
   "outputs": [],
   "source": []
  }
 ],
 "metadata": {
  "kernelspec": {
   "display_name": "Python 3",
   "language": "python",
   "name": "python3"
  },
  "language_info": {
   "codemirror_mode": {
    "name": "ipython",
    "version": 3
   },
   "file_extension": ".py",
   "mimetype": "text/x-python",
   "name": "python",
   "nbconvert_exporter": "python",
   "pygments_lexer": "ipython3",
   "version": "3.6.1"
  }
 },
 "nbformat": 4,
 "nbformat_minor": 2
}
